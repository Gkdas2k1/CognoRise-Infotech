{
  "nbformat": 4,
  "nbformat_minor": 0,
  "metadata": {
    "colab": {
      "provenance": [],
      "authorship_tag": "ABX9TyP2EOxL3YnoQ738SDfpm/wx",
      "include_colab_link": true
    },
    "kernelspec": {
      "name": "python3",
      "display_name": "Python 3"
    },
    "language_info": {
      "name": "python"
    }
  },
  "cells": [
    {
      "cell_type": "markdown",
      "metadata": {
        "id": "view-in-github",
        "colab_type": "text"
      },
      "source": [
        "<a href=\"https://colab.research.google.com/github/Gkdas2k1/CognoRise-Infotech/blob/main/Spam_Email_Detection_Cognorise_Task3.ipynb\" target=\"_parent\"><img src=\"https://colab.research.google.com/assets/colab-badge.svg\" alt=\"Open In Colab\"/></a>"
      ]
    },
    {
      "cell_type": "code",
      "execution_count": 1,
      "metadata": {
        "colab": {
          "base_uri": "https://localhost:8080/",
          "height": 493
        },
        "id": "NascZja1RyWo",
        "outputId": "52871a06-4a51-4f45-a407-3ba284a16442"
      },
      "outputs": [
        {
          "output_type": "stream",
          "name": "stderr",
          "text": [
            "[nltk_data] Downloading package stopwords to /root/nltk_data...\n",
            "[nltk_data]   Unzipping corpora/stopwords.zip.\n",
            "[nltk_data] Downloading package punkt to /root/nltk_data...\n",
            "[nltk_data]   Unzipping tokenizers/punkt.zip.\n"
          ]
        },
        {
          "output_type": "execute_result",
          "data": {
            "text/plain": [
              "     Category                                            Message\n",
              "0         ham  Go until jurong point, crazy.. Available only ...\n",
              "1         ham                      Ok lar... Joking wif u oni...\n",
              "2        spam  Free entry in 2 a wkly comp to win FA Cup fina...\n",
              "3         ham  U dun say so early hor... U c already then say...\n",
              "4         ham  Nah I don't think he goes to usf, he lives aro...\n",
              "...       ...                                                ...\n",
              "5567     spam  This is the 2nd time we have tried 2 contact u...\n",
              "5568      ham              Will Ã¼ b going to esplanade fr home?\n",
              "5569      ham  Pity, * was in mood for that. So...any other s...\n",
              "5570      ham  The guy did some bitching but I acted like i'd...\n",
              "5571      ham                         Rofl. Its true to its name\n",
              "\n",
              "[5572 rows x 2 columns]"
            ],
            "text/html": [
              "\n",
              "  <div id=\"df-d8e14267-9640-4e03-8628-27aef5366090\" class=\"colab-df-container\">\n",
              "    <div>\n",
              "<style scoped>\n",
              "    .dataframe tbody tr th:only-of-type {\n",
              "        vertical-align: middle;\n",
              "    }\n",
              "\n",
              "    .dataframe tbody tr th {\n",
              "        vertical-align: top;\n",
              "    }\n",
              "\n",
              "    .dataframe thead th {\n",
              "        text-align: right;\n",
              "    }\n",
              "</style>\n",
              "<table border=\"1\" class=\"dataframe\">\n",
              "  <thead>\n",
              "    <tr style=\"text-align: right;\">\n",
              "      <th></th>\n",
              "      <th>Category</th>\n",
              "      <th>Message</th>\n",
              "    </tr>\n",
              "  </thead>\n",
              "  <tbody>\n",
              "    <tr>\n",
              "      <th>0</th>\n",
              "      <td>ham</td>\n",
              "      <td>Go until jurong point, crazy.. Available only ...</td>\n",
              "    </tr>\n",
              "    <tr>\n",
              "      <th>1</th>\n",
              "      <td>ham</td>\n",
              "      <td>Ok lar... Joking wif u oni...</td>\n",
              "    </tr>\n",
              "    <tr>\n",
              "      <th>2</th>\n",
              "      <td>spam</td>\n",
              "      <td>Free entry in 2 a wkly comp to win FA Cup fina...</td>\n",
              "    </tr>\n",
              "    <tr>\n",
              "      <th>3</th>\n",
              "      <td>ham</td>\n",
              "      <td>U dun say so early hor... U c already then say...</td>\n",
              "    </tr>\n",
              "    <tr>\n",
              "      <th>4</th>\n",
              "      <td>ham</td>\n",
              "      <td>Nah I don't think he goes to usf, he lives aro...</td>\n",
              "    </tr>\n",
              "    <tr>\n",
              "      <th>...</th>\n",
              "      <td>...</td>\n",
              "      <td>...</td>\n",
              "    </tr>\n",
              "    <tr>\n",
              "      <th>5567</th>\n",
              "      <td>spam</td>\n",
              "      <td>This is the 2nd time we have tried 2 contact u...</td>\n",
              "    </tr>\n",
              "    <tr>\n",
              "      <th>5568</th>\n",
              "      <td>ham</td>\n",
              "      <td>Will Ã¼ b going to esplanade fr home?</td>\n",
              "    </tr>\n",
              "    <tr>\n",
              "      <th>5569</th>\n",
              "      <td>ham</td>\n",
              "      <td>Pity, * was in mood for that. So...any other s...</td>\n",
              "    </tr>\n",
              "    <tr>\n",
              "      <th>5570</th>\n",
              "      <td>ham</td>\n",
              "      <td>The guy did some bitching but I acted like i'd...</td>\n",
              "    </tr>\n",
              "    <tr>\n",
              "      <th>5571</th>\n",
              "      <td>ham</td>\n",
              "      <td>Rofl. Its true to its name</td>\n",
              "    </tr>\n",
              "  </tbody>\n",
              "</table>\n",
              "<p>5572 rows × 2 columns</p>\n",
              "</div>\n",
              "    <div class=\"colab-df-buttons\">\n",
              "\n",
              "  <div class=\"colab-df-container\">\n",
              "    <button class=\"colab-df-convert\" onclick=\"convertToInteractive('df-d8e14267-9640-4e03-8628-27aef5366090')\"\n",
              "            title=\"Convert this dataframe to an interactive table.\"\n",
              "            style=\"display:none;\">\n",
              "\n",
              "  <svg xmlns=\"http://www.w3.org/2000/svg\" height=\"24px\" viewBox=\"0 -960 960 960\">\n",
              "    <path d=\"M120-120v-720h720v720H120Zm60-500h600v-160H180v160Zm220 220h160v-160H400v160Zm0 220h160v-160H400v160ZM180-400h160v-160H180v160Zm440 0h160v-160H620v160ZM180-180h160v-160H180v160Zm440 0h160v-160H620v160Z\"/>\n",
              "  </svg>\n",
              "    </button>\n",
              "\n",
              "  <style>\n",
              "    .colab-df-container {\n",
              "      display:flex;\n",
              "      gap: 12px;\n",
              "    }\n",
              "\n",
              "    .colab-df-convert {\n",
              "      background-color: #E8F0FE;\n",
              "      border: none;\n",
              "      border-radius: 50%;\n",
              "      cursor: pointer;\n",
              "      display: none;\n",
              "      fill: #1967D2;\n",
              "      height: 32px;\n",
              "      padding: 0 0 0 0;\n",
              "      width: 32px;\n",
              "    }\n",
              "\n",
              "    .colab-df-convert:hover {\n",
              "      background-color: #E2EBFA;\n",
              "      box-shadow: 0px 1px 2px rgba(60, 64, 67, 0.3), 0px 1px 3px 1px rgba(60, 64, 67, 0.15);\n",
              "      fill: #174EA6;\n",
              "    }\n",
              "\n",
              "    .colab-df-buttons div {\n",
              "      margin-bottom: 4px;\n",
              "    }\n",
              "\n",
              "    [theme=dark] .colab-df-convert {\n",
              "      background-color: #3B4455;\n",
              "      fill: #D2E3FC;\n",
              "    }\n",
              "\n",
              "    [theme=dark] .colab-df-convert:hover {\n",
              "      background-color: #434B5C;\n",
              "      box-shadow: 0px 1px 3px 1px rgba(0, 0, 0, 0.15);\n",
              "      filter: drop-shadow(0px 1px 2px rgba(0, 0, 0, 0.3));\n",
              "      fill: #FFFFFF;\n",
              "    }\n",
              "  </style>\n",
              "\n",
              "    <script>\n",
              "      const buttonEl =\n",
              "        document.querySelector('#df-d8e14267-9640-4e03-8628-27aef5366090 button.colab-df-convert');\n",
              "      buttonEl.style.display =\n",
              "        google.colab.kernel.accessAllowed ? 'block' : 'none';\n",
              "\n",
              "      async function convertToInteractive(key) {\n",
              "        const element = document.querySelector('#df-d8e14267-9640-4e03-8628-27aef5366090');\n",
              "        const dataTable =\n",
              "          await google.colab.kernel.invokeFunction('convertToInteractive',\n",
              "                                                    [key], {});\n",
              "        if (!dataTable) return;\n",
              "\n",
              "        const docLinkHtml = 'Like what you see? Visit the ' +\n",
              "          '<a target=\"_blank\" href=https://colab.research.google.com/notebooks/data_table.ipynb>data table notebook</a>'\n",
              "          + ' to learn more about interactive tables.';\n",
              "        element.innerHTML = '';\n",
              "        dataTable['output_type'] = 'display_data';\n",
              "        await google.colab.output.renderOutput(dataTable, element);\n",
              "        const docLink = document.createElement('div');\n",
              "        docLink.innerHTML = docLinkHtml;\n",
              "        element.appendChild(docLink);\n",
              "      }\n",
              "    </script>\n",
              "  </div>\n",
              "\n",
              "\n",
              "<div id=\"df-b8d1da18-e6b8-46da-bb49-ac64ef486665\">\n",
              "  <button class=\"colab-df-quickchart\" onclick=\"quickchart('df-b8d1da18-e6b8-46da-bb49-ac64ef486665')\"\n",
              "            title=\"Suggest charts\"\n",
              "            style=\"display:none;\">\n",
              "\n",
              "<svg xmlns=\"http://www.w3.org/2000/svg\" height=\"24px\"viewBox=\"0 0 24 24\"\n",
              "     width=\"24px\">\n",
              "    <g>\n",
              "        <path d=\"M19 3H5c-1.1 0-2 .9-2 2v14c0 1.1.9 2 2 2h14c1.1 0 2-.9 2-2V5c0-1.1-.9-2-2-2zM9 17H7v-7h2v7zm4 0h-2V7h2v10zm4 0h-2v-4h2v4z\"/>\n",
              "    </g>\n",
              "</svg>\n",
              "  </button>\n",
              "\n",
              "<style>\n",
              "  .colab-df-quickchart {\n",
              "      --bg-color: #E8F0FE;\n",
              "      --fill-color: #1967D2;\n",
              "      --hover-bg-color: #E2EBFA;\n",
              "      --hover-fill-color: #174EA6;\n",
              "      --disabled-fill-color: #AAA;\n",
              "      --disabled-bg-color: #DDD;\n",
              "  }\n",
              "\n",
              "  [theme=dark] .colab-df-quickchart {\n",
              "      --bg-color: #3B4455;\n",
              "      --fill-color: #D2E3FC;\n",
              "      --hover-bg-color: #434B5C;\n",
              "      --hover-fill-color: #FFFFFF;\n",
              "      --disabled-bg-color: #3B4455;\n",
              "      --disabled-fill-color: #666;\n",
              "  }\n",
              "\n",
              "  .colab-df-quickchart {\n",
              "    background-color: var(--bg-color);\n",
              "    border: none;\n",
              "    border-radius: 50%;\n",
              "    cursor: pointer;\n",
              "    display: none;\n",
              "    fill: var(--fill-color);\n",
              "    height: 32px;\n",
              "    padding: 0;\n",
              "    width: 32px;\n",
              "  }\n",
              "\n",
              "  .colab-df-quickchart:hover {\n",
              "    background-color: var(--hover-bg-color);\n",
              "    box-shadow: 0 1px 2px rgba(60, 64, 67, 0.3), 0 1px 3px 1px rgba(60, 64, 67, 0.15);\n",
              "    fill: var(--button-hover-fill-color);\n",
              "  }\n",
              "\n",
              "  .colab-df-quickchart-complete:disabled,\n",
              "  .colab-df-quickchart-complete:disabled:hover {\n",
              "    background-color: var(--disabled-bg-color);\n",
              "    fill: var(--disabled-fill-color);\n",
              "    box-shadow: none;\n",
              "  }\n",
              "\n",
              "  .colab-df-spinner {\n",
              "    border: 2px solid var(--fill-color);\n",
              "    border-color: transparent;\n",
              "    border-bottom-color: var(--fill-color);\n",
              "    animation:\n",
              "      spin 1s steps(1) infinite;\n",
              "  }\n",
              "\n",
              "  @keyframes spin {\n",
              "    0% {\n",
              "      border-color: transparent;\n",
              "      border-bottom-color: var(--fill-color);\n",
              "      border-left-color: var(--fill-color);\n",
              "    }\n",
              "    20% {\n",
              "      border-color: transparent;\n",
              "      border-left-color: var(--fill-color);\n",
              "      border-top-color: var(--fill-color);\n",
              "    }\n",
              "    30% {\n",
              "      border-color: transparent;\n",
              "      border-left-color: var(--fill-color);\n",
              "      border-top-color: var(--fill-color);\n",
              "      border-right-color: var(--fill-color);\n",
              "    }\n",
              "    40% {\n",
              "      border-color: transparent;\n",
              "      border-right-color: var(--fill-color);\n",
              "      border-top-color: var(--fill-color);\n",
              "    }\n",
              "    60% {\n",
              "      border-color: transparent;\n",
              "      border-right-color: var(--fill-color);\n",
              "    }\n",
              "    80% {\n",
              "      border-color: transparent;\n",
              "      border-right-color: var(--fill-color);\n",
              "      border-bottom-color: var(--fill-color);\n",
              "    }\n",
              "    90% {\n",
              "      border-color: transparent;\n",
              "      border-bottom-color: var(--fill-color);\n",
              "    }\n",
              "  }\n",
              "</style>\n",
              "\n",
              "  <script>\n",
              "    async function quickchart(key) {\n",
              "      const quickchartButtonEl =\n",
              "        document.querySelector('#' + key + ' button');\n",
              "      quickchartButtonEl.disabled = true;  // To prevent multiple clicks.\n",
              "      quickchartButtonEl.classList.add('colab-df-spinner');\n",
              "      try {\n",
              "        const charts = await google.colab.kernel.invokeFunction(\n",
              "            'suggestCharts', [key], {});\n",
              "      } catch (error) {\n",
              "        console.error('Error during call to suggestCharts:', error);\n",
              "      }\n",
              "      quickchartButtonEl.classList.remove('colab-df-spinner');\n",
              "      quickchartButtonEl.classList.add('colab-df-quickchart-complete');\n",
              "    }\n",
              "    (() => {\n",
              "      let quickchartButtonEl =\n",
              "        document.querySelector('#df-b8d1da18-e6b8-46da-bb49-ac64ef486665 button');\n",
              "      quickchartButtonEl.style.display =\n",
              "        google.colab.kernel.accessAllowed ? 'block' : 'none';\n",
              "    })();\n",
              "  </script>\n",
              "</div>\n",
              "\n",
              "  <div id=\"id_b1b5456e-8991-4e7d-9d4d-2e16e44641d9\">\n",
              "    <style>\n",
              "      .colab-df-generate {\n",
              "        background-color: #E8F0FE;\n",
              "        border: none;\n",
              "        border-radius: 50%;\n",
              "        cursor: pointer;\n",
              "        display: none;\n",
              "        fill: #1967D2;\n",
              "        height: 32px;\n",
              "        padding: 0 0 0 0;\n",
              "        width: 32px;\n",
              "      }\n",
              "\n",
              "      .colab-df-generate:hover {\n",
              "        background-color: #E2EBFA;\n",
              "        box-shadow: 0px 1px 2px rgba(60, 64, 67, 0.3), 0px 1px 3px 1px rgba(60, 64, 67, 0.15);\n",
              "        fill: #174EA6;\n",
              "      }\n",
              "\n",
              "      [theme=dark] .colab-df-generate {\n",
              "        background-color: #3B4455;\n",
              "        fill: #D2E3FC;\n",
              "      }\n",
              "\n",
              "      [theme=dark] .colab-df-generate:hover {\n",
              "        background-color: #434B5C;\n",
              "        box-shadow: 0px 1px 3px 1px rgba(0, 0, 0, 0.15);\n",
              "        filter: drop-shadow(0px 1px 2px rgba(0, 0, 0, 0.3));\n",
              "        fill: #FFFFFF;\n",
              "      }\n",
              "    </style>\n",
              "    <button class=\"colab-df-generate\" onclick=\"generateWithVariable('df')\"\n",
              "            title=\"Generate code using this dataframe.\"\n",
              "            style=\"display:none;\">\n",
              "\n",
              "  <svg xmlns=\"http://www.w3.org/2000/svg\" height=\"24px\"viewBox=\"0 0 24 24\"\n",
              "       width=\"24px\">\n",
              "    <path d=\"M7,19H8.4L18.45,9,17,7.55,7,17.6ZM5,21V16.75L18.45,3.32a2,2,0,0,1,2.83,0l1.4,1.43a1.91,1.91,0,0,1,.58,1.4,1.91,1.91,0,0,1-.58,1.4L9.25,21ZM18.45,9,17,7.55Zm-12,3A5.31,5.31,0,0,0,4.9,8.1,5.31,5.31,0,0,0,1,6.5,5.31,5.31,0,0,0,4.9,4.9,5.31,5.31,0,0,0,6.5,1,5.31,5.31,0,0,0,8.1,4.9,5.31,5.31,0,0,0,12,6.5,5.46,5.46,0,0,0,6.5,12Z\"/>\n",
              "  </svg>\n",
              "    </button>\n",
              "    <script>\n",
              "      (() => {\n",
              "      const buttonEl =\n",
              "        document.querySelector('#id_b1b5456e-8991-4e7d-9d4d-2e16e44641d9 button.colab-df-generate');\n",
              "      buttonEl.style.display =\n",
              "        google.colab.kernel.accessAllowed ? 'block' : 'none';\n",
              "\n",
              "      buttonEl.onclick = () => {\n",
              "        google.colab.notebook.generateWithVariable('df');\n",
              "      }\n",
              "      })();\n",
              "    </script>\n",
              "  </div>\n",
              "\n",
              "    </div>\n",
              "  </div>\n"
            ],
            "application/vnd.google.colaboratory.intrinsic+json": {
              "type": "dataframe",
              "variable_name": "df",
              "summary": "{\n  \"name\": \"df\",\n  \"rows\": 5572,\n  \"fields\": [\n    {\n      \"column\": \"Category\",\n      \"properties\": {\n        \"dtype\": \"category\",\n        \"num_unique_values\": 2,\n        \"samples\": [\n          \"spam\",\n          \"ham\"\n        ],\n        \"semantic_type\": \"\",\n        \"description\": \"\"\n      }\n    },\n    {\n      \"column\": \"Message\",\n      \"properties\": {\n        \"dtype\": \"string\",\n        \"num_unique_values\": 5157,\n        \"samples\": [\n          \"Also sir, i sent you an email about how to log into the usc payment portal. I.ll send you another message that should explain how things are back home. Have a great weekend.\",\n          \"Are you free now?can i call now?\"\n        ],\n        \"semantic_type\": \"\",\n        \"description\": \"\"\n      }\n    }\n  ]\n}"
            }
          },
          "metadata": {},
          "execution_count": 1
        }
      ],
      "source": [
        "import pandas as pd\n",
        "import numpy as np\n",
        "import nltk\n",
        "import re\n",
        "import seaborn as sns\n",
        "import matplotlib.pyplot as plt\n",
        "nltk.download('stopwords')\n",
        "nltk.download('punkt')\n",
        "df = pd.read_csv('spam.csv', encoding='latin-1')\n",
        "df"
      ]
    },
    {
      "cell_type": "code",
      "source": [
        "df = df.replace('ham', 'non_spam')"
      ],
      "metadata": {
        "id": "vPtD-jrHSUQN"
      },
      "execution_count": 2,
      "outputs": []
    },
    {
      "cell_type": "code",
      "source": [
        "df.info()"
      ],
      "metadata": {
        "colab": {
          "base_uri": "https://localhost:8080/"
        },
        "id": "nAlnXu_GSXRg",
        "outputId": "d0e32ffb-0503-4118-bb7b-8472751ccf66"
      },
      "execution_count": 3,
      "outputs": [
        {
          "output_type": "stream",
          "name": "stdout",
          "text": [
            "<class 'pandas.core.frame.DataFrame'>\n",
            "RangeIndex: 5572 entries, 0 to 5571\n",
            "Data columns (total 2 columns):\n",
            " #   Column    Non-Null Count  Dtype \n",
            "---  ------    --------------  ----- \n",
            " 0   Category  5572 non-null   object\n",
            " 1   Message   5572 non-null   object\n",
            "dtypes: object(2)\n",
            "memory usage: 87.2+ KB\n"
          ]
        }
      ]
    },
    {
      "cell_type": "code",
      "source": [
        "df['Category'].value_counts()"
      ],
      "metadata": {
        "colab": {
          "base_uri": "https://localhost:8080/"
        },
        "id": "HDXpCeP1SacY",
        "outputId": "537841b7-7476-427e-dfb0-9e71c2e1d326"
      },
      "execution_count": 5,
      "outputs": [
        {
          "output_type": "execute_result",
          "data": {
            "text/plain": [
              "Category\n",
              "non_spam    4825\n",
              "spam         747\n",
              "Name: count, dtype: int64"
            ]
          },
          "metadata": {},
          "execution_count": 5
        }
      ]
    },
    {
      "cell_type": "code",
      "source": [
        "df['Category']=df['Category'].map({'non_spam':0, 'spam':1})"
      ],
      "metadata": {
        "id": "kdhbjUODSny4"
      },
      "execution_count": 6,
      "outputs": []
    },
    {
      "cell_type": "code",
      "source": [
        "tweets = df['Message']\n",
        "from nltk import TweetTokenizer\n",
        "tk = TweetTokenizer()\n",
        "tweets = tweets.apply(lambda x:tk.tokenize(x)).apply(lambda x:' '.join(x))\n",
        "tweets"
      ],
      "metadata": {
        "colab": {
          "base_uri": "https://localhost:8080/"
        },
        "id": "3mClYYyRSx74",
        "outputId": "06b8ab69-5dba-4eb5-e9d6-67559ca00aa9"
      },
      "execution_count": 8,
      "outputs": [
        {
          "output_type": "execute_result",
          "data": {
            "text/plain": [
              "0       Go until jurong point , crazy .. Available onl...\n",
              "1                         Ok lar ... Joking wif u oni ...\n",
              "2       Free entry in 2 a wkly comp to win FA Cup fina...\n",
              "3       U dun say so early hor ... U c already then sa...\n",
              "4       Nah I don't think he goes to usf , he lives ar...\n",
              "                              ...                        \n",
              "5567    This is the 2nd time we have tried 2 contact u...\n",
              "5568              Will Ã ¼ b going to esplanade fr home ?\n",
              "5569    Pity , * was in mood for that . So ... any oth...\n",
              "5570    The guy did some bitching but I acted like i'd...\n",
              "5571                          Rofl . Its true to its name\n",
              "Name: Message, Length: 5572, dtype: object"
            ]
          },
          "metadata": {},
          "execution_count": 8
        }
      ]
    },
    {
      "cell_type": "code",
      "source": [
        "tweets = tweets.str.replace('[^a-zA-Z0-9]+',' ')\n",
        "tweets"
      ],
      "metadata": {
        "colab": {
          "base_uri": "https://localhost:8080/"
        },
        "id": "WtmmUWgZS2nY",
        "outputId": "dcf579a6-10b5-4d32-eba0-363a7c82c5dd"
      },
      "execution_count": 9,
      "outputs": [
        {
          "output_type": "execute_result",
          "data": {
            "text/plain": [
              "0       Go until jurong point , crazy .. Available onl...\n",
              "1                         Ok lar ... Joking wif u oni ...\n",
              "2       Free entry in 2 a wkly comp to win FA Cup fina...\n",
              "3       U dun say so early hor ... U c already then sa...\n",
              "4       Nah I don't think he goes to usf , he lives ar...\n",
              "                              ...                        \n",
              "5567    This is the 2nd time we have tried 2 contact u...\n",
              "5568              Will Ã ¼ b going to esplanade fr home ?\n",
              "5569    Pity , * was in mood for that . So ... any oth...\n",
              "5570    The guy did some bitching but I acted like i'd...\n",
              "5571                          Rofl . Its true to its name\n",
              "Name: Message, Length: 5572, dtype: object"
            ]
          },
          "metadata": {},
          "execution_count": 9
        }
      ]
    },
    {
      "cell_type": "code",
      "source": [
        "from nltk.tokenize import word_tokenize\n",
        "tweets = tweets.apply(lambda x: ' '.join([w for w in word_tokenize(x) if len(x)>=3]))\n",
        "tweets"
      ],
      "metadata": {
        "colab": {
          "base_uri": "https://localhost:8080/"
        },
        "id": "ZZ_-evCJS8XY",
        "outputId": "c59a8e63-032b-4c27-9fbe-620b8310ded2"
      },
      "execution_count": 10,
      "outputs": [
        {
          "output_type": "execute_result",
          "data": {
            "text/plain": [
              "0       Go until jurong point , crazy .. Available onl...\n",
              "1                         Ok lar ... Joking wif u oni ...\n",
              "2       Free entry in 2 a wkly comp to win FA Cup fina...\n",
              "3       U dun say so early hor ... U c already then sa...\n",
              "4       Nah I do n't think he goes to usf , he lives a...\n",
              "                              ...                        \n",
              "5567    This is the 2nd time we have tried 2 contact u...\n",
              "5568              Will Ã ¼ b going to esplanade fr home ?\n",
              "5569    Pity , * was in mood for that . So ... any oth...\n",
              "5570    The guy did some bitching but I acted like i '...\n",
              "5571                          Rofl . Its true to its name\n",
              "Name: Message, Length: 5572, dtype: object"
            ]
          },
          "metadata": {},
          "execution_count": 10
        }
      ]
    },
    {
      "cell_type": "code",
      "source": [
        "from nltk.stem import SnowballStemmer\n",
        "ss = SnowballStemmer('english')\n",
        "tweets = tweets.apply(lambda x:[ss.stem(i.lower()) for i in tk.tokenize(x)]).apply(lambda x:' '.join(x))\n",
        "tweets"
      ],
      "metadata": {
        "colab": {
          "base_uri": "https://localhost:8080/"
        },
        "id": "FV9UAq74S-go",
        "outputId": "ad3e2072-7ad8-484a-875f-e3736fd8da7c"
      },
      "execution_count": 11,
      "outputs": [
        {
          "output_type": "execute_result",
          "data": {
            "text/plain": [
              "0       go until jurong point , crazi .. avail onli in...\n",
              "1                           ok lar ... joke wif u oni ...\n",
              "2       free entri in 2 a wkli comp to win fa cup fina...\n",
              "3       u dun say so earli hor ... u c alreadi then sa...\n",
              "4       nah i do n't think he goe to usf , he live aro...\n",
              "                              ...                        \n",
              "5567    this is the 2nd time we have tri 2 contact u ....\n",
              "5568                  will ã ¼ b go to esplanad fr home ?\n",
              "5569    piti , * was in mood for that . so ... ani oth...\n",
              "5570    the guy did some bitch but i act like i ' d be...\n",
              "5571                            rofl . it true to it name\n",
              "Name: Message, Length: 5572, dtype: object"
            ]
          },
          "metadata": {},
          "execution_count": 11
        }
      ]
    },
    {
      "cell_type": "code",
      "source": [
        "from nltk.corpus import stopwords\n",
        "sw = stopwords.words('english')\n",
        "tweets = tweets.apply(lambda x: [i for i in word_tokenize(x) if i not in sw]).apply(lambda x: ' '.join(x))\n",
        "tweets"
      ],
      "metadata": {
        "colab": {
          "base_uri": "https://localhost:8080/"
        },
        "id": "Whwk6kyYTCjA",
        "outputId": "dfb2fa03-9ee8-46e1-e170-65393bb95e99"
      },
      "execution_count": 12,
      "outputs": [
        {
          "output_type": "execute_result",
          "data": {
            "text/plain": [
              "0       go jurong point , crazi .. avail onli bugi n g...\n",
              "1                           ok lar ... joke wif u oni ...\n",
              "2       free entri 2 wkli comp win fa cup final tkts 2...\n",
              "3             u dun say earli hor ... u c alreadi say ...\n",
              "4              nah n't think goe usf , live around though\n",
              "                              ...                        \n",
              "5567    2nd time tri 2 contact u . u â £ 750 pound pri...\n",
              "5568                          ã ¼ b go esplanad fr home ?\n",
              "5569                    piti , * mood . ... ani suggest ?\n",
              "5570    guy bitch act like ' interest buy someth els n...\n",
              "5571                                     rofl . true name\n",
              "Name: Message, Length: 5572, dtype: object"
            ]
          },
          "metadata": {},
          "execution_count": 12
        }
      ]
    },
    {
      "cell_type": "code",
      "source": [
        "from sklearn.feature_extraction.text import TfidfVectorizer\n",
        "vec = TfidfVectorizer()\n",
        "data = vec.fit_transform(tweets)\n",
        "data"
      ],
      "metadata": {
        "colab": {
          "base_uri": "https://localhost:8080/"
        },
        "id": "XcOCgvlITGrQ",
        "outputId": "5a6a42ed-0a47-4dd5-fa11-f29b855d1100"
      },
      "execution_count": 13,
      "outputs": [
        {
          "output_type": "execute_result",
          "data": {
            "text/plain": [
              "<5572x7319 sparse matrix of type '<class 'numpy.float64'>'\n",
              "\twith 47715 stored elements in Compressed Sparse Row format>"
            ]
          },
          "metadata": {},
          "execution_count": 13
        }
      ]
    },
    {
      "cell_type": "code",
      "source": [
        "print(data)"
      ],
      "metadata": {
        "colab": {
          "base_uri": "https://localhost:8080/"
        },
        "id": "wJQvXoDcTI9Q",
        "outputId": "b77be713-c944-477f-fe74-7ea4dca02b98"
      },
      "execution_count": 14,
      "outputs": [
        {
          "output_type": "stream",
          "name": "stdout",
          "text": [
            "  (0, 6988)\t0.19116071284724703\n",
            "  (0, 1083)\t0.34605452965067324\n",
            "  (0, 3130)\t0.16042179773034368\n",
            "  (0, 1875)\t0.2923482650508795\n",
            "  (0, 1636)\t0.33034645422832953\n",
            "  (0, 3877)\t0.2923482650508795\n",
            "  (0, 7167)\t0.23198437013180062\n",
            "  (0, 3168)\t0.19080691239010156\n",
            "  (0, 1638)\t0.2923482650508795\n",
            "  (0, 4771)\t0.16575600647079516\n",
            "  (0, 1271)\t0.260932114206192\n",
            "  (0, 2083)\t0.26799541190547166\n",
            "  (0, 5083)\t0.23629334920366546\n",
            "  (0, 3766)\t0.34605452965067324\n",
            "  (0, 3092)\t0.13871883163569262\n",
            "  (1, 4769)\t0.5652772724911168\n",
            "  (1, 7088)\t0.4437939483438497\n",
            "  (1, 3733)\t0.4749504100110151\n",
            "  (1, 3909)\t0.42225952924743965\n",
            "  (1, 4742)\t0.2821835122902816\n",
            "  (2, 378)\t0.15111503670608792\n",
            "  (2, 79)\t0.23434695445324913\n",
            "  (2, 1155)\t0.1668292599267376\n",
            "  (2, 5345)\t0.1668292599267376\n",
            "  (2, 6704)\t0.12404862119091215\n",
            "  :\t:\n",
            "  (5567, 4771)\t0.17710563695941772\n",
            "  (5568, 2627)\t0.6650056778292512\n",
            "  (5568, 2917)\t0.5738678852280512\n",
            "  (5568, 3380)\t0.3744439687897732\n",
            "  (5568, 3092)\t0.29704345304299484\n",
            "  (5569, 5034)\t0.6038288697475673\n",
            "  (5569, 4411)\t0.5021550803083344\n",
            "  (5569, 6231)\t0.5295640248979575\n",
            "  (5569, 1101)\t0.3206133417588562\n",
            "  (5570, 1479)\t0.3559289136145236\n",
            "  (5570, 944)\t0.36307321901529377\n",
            "  (5570, 3599)\t0.3176154647103665\n",
            "  (5570, 3211)\t0.25409580180367164\n",
            "  (5570, 3024)\t0.334981099668819\n",
            "  (5570, 2554)\t0.2969317326556314\n",
            "  (5570, 1664)\t0.24855533278738062\n",
            "  (5570, 5981)\t0.24987960134914788\n",
            "  (5570, 6822)\t0.25409580180367164\n",
            "  (5570, 4588)\t0.25559097167536743\n",
            "  (5570, 3990)\t0.19210750263733742\n",
            "  (5570, 7022)\t0.21675809939122803\n",
            "  (5570, 2929)\t0.194079981016853\n",
            "  (5571, 5529)\t0.6971005288744686\n",
            "  (5571, 6665)\t0.5294963215537312\n",
            "  (5571, 4510)\t0.48340924495090487\n"
          ]
        }
      ]
    },
    {
      "cell_type": "code",
      "source": [
        "data.shape"
      ],
      "metadata": {
        "colab": {
          "base_uri": "https://localhost:8080/"
        },
        "id": "Yxrpw9MKTLeY",
        "outputId": "fa751019-6b29-4aaa-9e17-2ba0c7561115"
      },
      "execution_count": 15,
      "outputs": [
        {
          "output_type": "execute_result",
          "data": {
            "text/plain": [
              "(5572, 7319)"
            ]
          },
          "metadata": {},
          "execution_count": 15
        }
      ]
    },
    {
      "cell_type": "code",
      "source": [
        "y = df['Category'].values\n",
        "y"
      ],
      "metadata": {
        "colab": {
          "base_uri": "https://localhost:8080/"
        },
        "id": "-YS64D23TOxA",
        "outputId": "f9d73195-7ab8-484e-9e86-6ce6c2ece83a"
      },
      "execution_count": 16,
      "outputs": [
        {
          "output_type": "execute_result",
          "data": {
            "text/plain": [
              "array([0, 0, 1, ..., 0, 0, 0])"
            ]
          },
          "metadata": {},
          "execution_count": 16
        }
      ]
    },
    {
      "cell_type": "code",
      "source": [
        "from sklearn.model_selection import train_test_split\n",
        "x_train,x_test,y_train,y_test = train_test_split(data,y,test_size=0.30,random_state=42)"
      ],
      "metadata": {
        "id": "ZTep65FvTYJg"
      },
      "execution_count": 17,
      "outputs": []
    },
    {
      "cell_type": "code",
      "source": [
        "from sklearn.neighbors import KNeighborsClassifier\n",
        "from sklearn.naive_bayes import BernoulliNB\n",
        "from sklearn.svm import SVC\n",
        "from sklearn.ensemble import RandomForestClassifier\n",
        "from sklearn.tree import DecisionTreeClassifier\n",
        "from sklearn.metrics import confusion_matrix,accuracy_score,classification_report\n",
        "from sklearn.linear_model import LogisticRegression\n",
        "from sklearn.ensemble import AdaBoostClassifier\n",
        "knn=KNeighborsClassifier(n_neighbors=5)\n",
        "bayes=BernoulliNB()\n",
        "model=SVC()\n",
        "forest=RandomForestClassifier()\n",
        "tree=DecisionTreeClassifier()\n",
        "logreg = LogisticRegression()\n",
        "adaboost = AdaBoostClassifier()\n",
        "lst=[knn,bayes,model,forest,tree,logreg,adaboost]"
      ],
      "metadata": {
        "id": "me5NJ1w_TaEA"
      },
      "execution_count": 19,
      "outputs": []
    },
    {
      "cell_type": "code",
      "source": [
        "for i in lst:\n",
        "  print('Model is',i)\n",
        "  i.fit(x_train,y_train)\n",
        "  y_pred=i.predict(x_test)\n",
        "  y_pred\n",
        "  print(y_pred)\n",
        "  print(\"CM is\")\n",
        "  print(confusion_matrix(y_test,y_pred))\n",
        "  print(\"Accurcay score is\",accuracy_score(y_test,y_pred))\n",
        "  print(\"Classification report is\")\n",
        "  print(classification_report(y_test,y_pred))\n",
        "  print('*'*100)"
      ],
      "metadata": {
        "colab": {
          "base_uri": "https://localhost:8080/"
        },
        "id": "19RkoIZ0T8ir",
        "outputId": "b5da435a-fe4f-4445-9c33-8472b80c62c9"
      },
      "execution_count": 20,
      "outputs": [
        {
          "output_type": "stream",
          "name": "stdout",
          "text": [
            "Model is KNeighborsClassifier()\n",
            "[0 0 0 ... 0 0 0]\n",
            "CM is\n",
            "[[1448    0]\n",
            " [ 166   58]]\n",
            "Accurcay score is 0.9007177033492823\n",
            "Classification report is\n",
            "              precision    recall  f1-score   support\n",
            "\n",
            "           0       0.90      1.00      0.95      1448\n",
            "           1       1.00      0.26      0.41       224\n",
            "\n",
            "    accuracy                           0.90      1672\n",
            "   macro avg       0.95      0.63      0.68      1672\n",
            "weighted avg       0.91      0.90      0.87      1672\n",
            "\n",
            "****************************************************************************************************\n",
            "Model is BernoulliNB()\n",
            "[0 0 0 ... 0 1 0]\n",
            "CM is\n",
            "[[1443    5]\n",
            " [  32  192]]\n",
            "Accurcay score is 0.9778708133971292\n",
            "Classification report is\n",
            "              precision    recall  f1-score   support\n",
            "\n",
            "           0       0.98      1.00      0.99      1448\n",
            "           1       0.97      0.86      0.91       224\n",
            "\n",
            "    accuracy                           0.98      1672\n",
            "   macro avg       0.98      0.93      0.95      1672\n",
            "weighted avg       0.98      0.98      0.98      1672\n",
            "\n",
            "****************************************************************************************************\n",
            "Model is SVC()\n",
            "[0 0 0 ... 0 1 0]\n",
            "CM is\n",
            "[[1448    0]\n",
            " [  38  186]]\n",
            "Accurcay score is 0.9772727272727273\n",
            "Classification report is\n",
            "              precision    recall  f1-score   support\n",
            "\n",
            "           0       0.97      1.00      0.99      1448\n",
            "           1       1.00      0.83      0.91       224\n",
            "\n",
            "    accuracy                           0.98      1672\n",
            "   macro avg       0.99      0.92      0.95      1672\n",
            "weighted avg       0.98      0.98      0.98      1672\n",
            "\n",
            "****************************************************************************************************\n",
            "Model is RandomForestClassifier()\n",
            "[0 0 0 ... 0 1 0]\n",
            "CM is\n",
            "[[1448    0]\n",
            " [  39  185]]\n",
            "Accurcay score is 0.9766746411483254\n",
            "Classification report is\n",
            "              precision    recall  f1-score   support\n",
            "\n",
            "           0       0.97      1.00      0.99      1448\n",
            "           1       1.00      0.83      0.90       224\n",
            "\n",
            "    accuracy                           0.98      1672\n",
            "   macro avg       0.99      0.91      0.95      1672\n",
            "weighted avg       0.98      0.98      0.98      1672\n",
            "\n",
            "****************************************************************************************************\n",
            "Model is DecisionTreeClassifier()\n",
            "[0 0 0 ... 0 1 0]\n",
            "CM is\n",
            "[[1434   14]\n",
            " [  30  194]]\n",
            "Accurcay score is 0.9736842105263158\n",
            "Classification report is\n",
            "              precision    recall  f1-score   support\n",
            "\n",
            "           0       0.98      0.99      0.98      1448\n",
            "           1       0.93      0.87      0.90       224\n",
            "\n",
            "    accuracy                           0.97      1672\n",
            "   macro avg       0.96      0.93      0.94      1672\n",
            "weighted avg       0.97      0.97      0.97      1672\n",
            "\n",
            "****************************************************************************************************\n",
            "Model is LogisticRegression()\n",
            "[0 0 0 ... 0 1 0]\n",
            "CM is\n",
            "[[1446    2]\n",
            " [  67  157]]\n",
            "Accurcay score is 0.958732057416268\n",
            "Classification report is\n",
            "              precision    recall  f1-score   support\n",
            "\n",
            "           0       0.96      1.00      0.98      1448\n",
            "           1       0.99      0.70      0.82       224\n",
            "\n",
            "    accuracy                           0.96      1672\n",
            "   macro avg       0.97      0.85      0.90      1672\n",
            "weighted avg       0.96      0.96      0.96      1672\n",
            "\n",
            "****************************************************************************************************\n",
            "Model is AdaBoostClassifier()\n",
            "[0 0 0 ... 0 1 0]\n",
            "CM is\n",
            "[[1436   12]\n",
            " [  35  189]]\n",
            "Accurcay score is 0.97188995215311\n",
            "Classification report is\n",
            "              precision    recall  f1-score   support\n",
            "\n",
            "           0       0.98      0.99      0.98      1448\n",
            "           1       0.94      0.84      0.89       224\n",
            "\n",
            "    accuracy                           0.97      1672\n",
            "   macro avg       0.96      0.92      0.94      1672\n",
            "weighted avg       0.97      0.97      0.97      1672\n",
            "\n",
            "****************************************************************************************************\n"
          ]
        }
      ]
    },
    {
      "cell_type": "code",
      "source": [
        "x_test[0:3]"
      ],
      "metadata": {
        "colab": {
          "base_uri": "https://localhost:8080/"
        },
        "id": "YrpkmohGUOZy",
        "outputId": "674021c6-b2ef-43ce-ee54-c24bff554ca0"
      },
      "execution_count": 22,
      "outputs": [
        {
          "output_type": "execute_result",
          "data": {
            "text/plain": [
              "<3x7319 sparse matrix of type '<class 'numpy.float64'>'\n",
              "\twith 34 stored elements in Compressed Sparse Row format>"
            ]
          },
          "metadata": {},
          "execution_count": 22
        }
      ]
    },
    {
      "cell_type": "code",
      "source": [
        "y_test[0:15]"
      ],
      "metadata": {
        "colab": {
          "base_uri": "https://localhost:8080/"
        },
        "id": "Vb9XeuTgUa0r",
        "outputId": "efbb242e-e385-498c-cdb2-d7b8034b4aff"
      },
      "execution_count": 32,
      "outputs": [
        {
          "output_type": "execute_result",
          "data": {
            "text/plain": [
              "array([0, 0, 0, 0, 0, 0, 0, 0, 0, 0, 0, 0, 0, 0, 1])"
            ]
          },
          "metadata": {},
          "execution_count": 32
        }
      ]
    },
    {
      "cell_type": "code",
      "source": [
        "pred = logreg.predict(x_test[0:15])\n",
        "for i in pred:\n",
        "  if i==1:\n",
        "    print('Spam')\n",
        "  else:\n",
        "    print('Non Spam')"
      ],
      "metadata": {
        "colab": {
          "base_uri": "https://localhost:8080/"
        },
        "id": "mPvfus2pT-oQ",
        "outputId": "f6a5955b-d2b2-431e-ea4e-84a6082e687e"
      },
      "execution_count": 33,
      "outputs": [
        {
          "output_type": "stream",
          "name": "stdout",
          "text": [
            "Non Spam\n",
            "Non Spam\n",
            "Non Spam\n",
            "Non Spam\n",
            "Non Spam\n",
            "Non Spam\n",
            "Non Spam\n",
            "Non Spam\n",
            "Non Spam\n",
            "Non Spam\n",
            "Non Spam\n",
            "Non Spam\n",
            "Non Spam\n",
            "Non Spam\n",
            "Spam\n"
          ]
        }
      ]
    }
  ]
}